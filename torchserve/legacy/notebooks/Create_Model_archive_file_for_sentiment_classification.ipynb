{
 "cells": [
  {
   "cell_type": "markdown",
   "metadata": {},
   "source": [
    "# Creates a model archive file to be used in the torchserve for deployment"
   ]
  },
  {
   "cell_type": "markdown",
   "metadata": {},
   "source": [
    "## Downloads the model from the s3 link "
   ]
  },
  {
   "cell_type": "code",
   "execution_count": 1,
   "metadata": {},
   "outputs": [],
   "source": [
    "# Download the model and rename it to pytorch_model.bin, then move it to model folder"
   ]
  },
  {
   "cell_type": "code",
   "execution_count": 19,
   "metadata": {},
   "outputs": [
    {
     "name": "stdout",
     "output_type": "stream",
     "text": [
      "--2020-06-30 10:21:10--  http://dl.fbaipublicfiles.com/dynabench/hs/roberta_round1.bin\n",
      "Resolving dl.fbaipublicfiles.com (dl.fbaipublicfiles.com)... 172.67.9.4, 104.22.74.142, 104.22.75.142, ...\n",
      "Connecting to dl.fbaipublicfiles.com (dl.fbaipublicfiles.com)|172.67.9.4|:80... connected.\n",
      "HTTP request sent, awaiting response... 200 OK\n",
      "Length: 501003010 (478M) [application/octet-stream]\n",
      "Saving to: ‘roberta_round1.bin’\n",
      "\n",
      "roberta_round1.bin  100%[===================>] 477.79M  17.0MB/s    in 12s     \n",
      "\n",
      "2020-06-30 10:21:23 (40.2 MB/s) - ‘roberta_round1.bin’ saved [501003010/501003010]\n",
      "\n"
     ]
    }
   ],
   "source": [
    "!wget http://dl.fbaipublicfiles.com/dynabench/sentiment/roberta_round1.bin"
   ]
  },
  {
   "cell_type": "code",
   "execution_count": null,
   "metadata": {},
   "outputs": [],
   "source": [
    "## Installs torchserve and torch-model-archiver to be used in this kernel"
   ]
  },
  {
   "cell_type": "code",
   "execution_count": 1,
   "metadata": {},
   "outputs": [
    {
     "name": "stdout",
     "output_type": "stream",
     "text": [
      "Requirement already satisfied: torchserve in /home/ec2-user/anaconda3/envs/pytorch_p36/lib/python3.6/site-packages (0.1.1)\n",
      "Requirement already satisfied: torch-model-archiver in /home/ec2-user/anaconda3/envs/pytorch_p36/lib/python3.6/site-packages (0.1.1)\n",
      "Requirement already satisfied: Pillow in /home/ec2-user/anaconda3/envs/pytorch_p36/lib/python3.6/site-packages (from torchserve) (5.4.1)\n",
      "Requirement already satisfied: psutil in /home/ec2-user/anaconda3/envs/pytorch_p36/lib/python3.6/site-packages (from torchserve) (5.4.5)\n",
      "Requirement already satisfied: future in /home/ec2-user/anaconda3/envs/pytorch_p36/lib/python3.6/site-packages (from torchserve) (0.18.2)\n",
      "Requirement already satisfied: enum-compat in /home/ec2-user/anaconda3/envs/pytorch_p36/lib/python3.6/site-packages (from torch-model-archiver) (0.0.3)\n",
      "\u001b[31mfastai 1.0.60 requires nvidia-ml-py3, which is not installed.\u001b[0m\n",
      "\u001b[33mYou are using pip version 10.0.1, however version 20.2b1 is available.\n",
      "You should consider upgrading via the 'pip install --upgrade pip' command.\u001b[0m\n"
     ]
    }
   ],
   "source": [
    "!pip install torchserve torch-model-archiver"
   ]
  },
  {
   "cell_type": "markdown",
   "metadata": {},
   "source": [
    "### Create torchscript file "
   ]
  },
  {
   "cell_type": "code",
   "execution_count": 2,
   "metadata": {},
   "outputs": [],
   "source": [
    "#The model should be inside the model folder,go to the model folder and execute the below command\n",
    "#python3 create_torchscript.py \n",
    "#then move the .pt file from transformer_model folder to model folder"
   ]
  },
  {
   "cell_type": "markdown",
   "metadata": {},
   "source": [
    "## Model Archiving"
   ]
  },
  {
   "cell_type": "code",
   "execution_count": 3,
   "metadata": {},
   "outputs": [],
   "source": [
    "# Creates session to get the defualt bucket name to push the tar file\n",
    "import boto3, time, json, sagemaker\n",
    "sess = boto3.Session()\n",
    "sagemaker_session = sagemaker.Session(boto_session=sess)\n",
    "\n",
    "model_file_name = \"sentiment_r1_1\"\n",
    "bucket_name = sagemaker_session.default_bucket()\n",
    "prefix = 'torchserve'\n"
   ]
  },
  {
   "cell_type": "code",
   "execution_count": 4,
   "metadata": {},
   "outputs": [],
   "source": [
    "# !torch-model-archiver --help"
   ]
  },
  {
   "cell_type": "code",
   "execution_count": 5,
   "metadata": {},
   "outputs": [],
   "source": [
    "#Make sure you have the following files in the model folder pytorch_model.pt,Transformer_handler_generalized.py,vocab.json,setup_config.json,special_tokens_map.json,settings.py,tokenizer_config.json,merges.txt,qa_utils.py,config.json"
   ]
  },
  {
   "cell_type": "code",
   "execution_count": 6,
   "metadata": {},
   "outputs": [],
   "source": [
    "!torch-model-archiver --model-name sentiment_r1_1 --version 1.0 --serialized-file ./model/pytorch_model.pt --handler ./model/Transformer_handler_generalized.py --extra-files \"./model/vocab.json,./model/setup_config.json,./model/special_tokens_map.json,./model/settings.py,./model/tokenizer_config.json,./model/merges.txt\""
   ]
  },
  {
   "cell_type": "code",
   "execution_count": 7,
   "metadata": {},
   "outputs": [],
   "source": [
    "#The mar file will be present in the home directory\n",
    "#This creates a tar file to be used in the sagemaker deployment"
   ]
  },
  {
   "cell_type": "code",
   "execution_count": 8,
   "metadata": {},
   "outputs": [
    {
     "name": "stdout",
     "output_type": "stream",
     "text": [
      "sentiment_r1_1.mar\r\n"
     ]
    }
   ],
   "source": [
    "!tar cvfz {model_file_name}.tar.gz {model_file_name}.mar"
   ]
  },
  {
   "cell_type": "code",
   "execution_count": 9,
   "metadata": {},
   "outputs": [],
   "source": [
    "#Moves the tar file to mars folder\n",
    "!mv {model_file_name}.tar.gz {model_file_name}.mar ./mars/"
   ]
  },
  {
   "cell_type": "code",
   "execution_count": 10,
   "metadata": {},
   "outputs": [
    {
     "name": "stdout",
     "output_type": "stream",
     "text": [
      "upload: mars/sentiment_r1_1.tar.gz to s3://sagemaker-us-west-1-096166425824/torchserve/models/sent_class/sentiment_r1_1.tar.gz\n"
     ]
    }
   ],
   "source": [
    "# change the folder name before the last slash based on the task\n",
    "!aws s3 cp mars/{model_file_name}.tar.gz s3://{bucket_name}/{prefix}/models/sent_class/\n",
    "#The below s3 link will be given as the model data for sagemaker while deployment"
   ]
  },
  {
   "cell_type": "code",
   "execution_count": null,
   "metadata": {},
   "outputs": [],
   "source": []
  }
 ],
 "metadata": {
  "kernelspec": {
   "display_name": "conda_pytorch_p36",
   "language": "python",
   "name": "conda_pytorch_p36"
  },
  "language_info": {
   "codemirror_mode": {
    "name": "ipython",
    "version": 3
   },
   "file_extension": ".py",
   "mimetype": "text/x-python",
   "name": "python",
   "nbconvert_exporter": "python",
   "pygments_lexer": "ipython3",
   "version": "3.6.5"
  }
 },
 "nbformat": 4,
 "nbformat_minor": 4
}
