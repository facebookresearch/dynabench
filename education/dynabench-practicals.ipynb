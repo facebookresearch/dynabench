{
 "cells": [
  {
   "cell_type": "markdown",
   "metadata": {},
   "source": [
    "Scores App\n",
    "\n",
    "Install app dependencies:\n",
    "pip install -r requirements.txt\n",
    "\n",
    "Start/Run App With Anaconda Navigator Or Terminal Command:\n",
    "jupyter notebook"
   ]
  },
  {
   "cell_type": "code",
   "execution_count": 1,
   "metadata": {},
   "outputs": [],
   "source": [
    "#!pip install pandas"
   ]
  },
  {
   "cell_type": "code",
   "execution_count": 2,
   "metadata": {},
   "outputs": [],
   "source": [
    "from __future__ import division\n",
    "import warnings\n",
    "warnings.filterwarnings('ignore')\n",
    "\n",
    "import json\n",
    "import os\n",
    "import re\n",
    "\n",
    "import pandas as pd"
   ]
  },
  {
   "cell_type": "markdown",
   "metadata": {},
   "source": [
    "Find the json files directory, list all json files."
   ]
  },
  {
   "cell_type": "code",
   "execution_count": 3,
   "metadata": {},
   "outputs": [],
   "source": [
    "parentDirectory = os.getcwd()\n",
    "for it in os.scandir():\n",
    "    \n",
    "    if it.is_dir():\n",
    "        #print(it.path)\n",
    "        if not it.path.endswith('.ipynb_checkpoints') and not it.path.endswith('.git'):\n",
    "            #print(it.path)\n",
    "            newdir = parentDirectory + it.path[1:]\n",
    "            #print(newdir)\n",
    "            \n",
    " \n",
    "        "
   ]
  },
  {
   "cell_type": "code",
   "execution_count": 4,
   "metadata": {},
   "outputs": [
    {
     "name": "stdout",
     "output_type": "stream",
     "text": [
      "Total number of student json files: 4\n",
      "['studentD.json', 'studentC.json', 'studentB.json', 'studentA.json']\n"
     ]
    }
   ],
   "source": [
    "directory = \"\"\n",
    "parentDirectory = os.getcwd()\n",
    "for it in os.scandir():\n",
    "    \n",
    "    if it.is_dir():\n",
    "        #print(it.path)\n",
    "        if not it.path.endswith('.ipynb_checkpoints') and not it.path.endswith('.git'):\n",
    "            #print(it.path)\n",
    "            newdir = parentDirectory + it.path[1:]\n",
    "            #print(newdir)\n",
    "path = newdir\n",
    "jsonFiles = [jFile for jFile in os.listdir(path) if jFile.endswith(\".json\")]\n",
    "\n",
    "print(\"Total number of student json files:\", len(jsonFiles))\n",
    "print(jsonFiles)"
   ]
  },
  {
   "cell_type": "markdown",
   "metadata": {},
   "source": [
    "Create Filename class to store file results as dicts."
   ]
  },
  {
   "cell_type": "code",
   "execution_count": 5,
   "metadata": {},
   "outputs": [],
   "source": [
    "class Filename:\n",
    "    def __init__(self, jsonFile, file):\n",
    "        self.fileInfo = jsonFile\n",
    "        self.name = file\n",
    "        self.dictInfo = {}\n",
    "\n",
    "    def calculateScore(self):\n",
    "        score = 0\n",
    "        numberExamples = 0\n",
    "        mer = 0\n",
    "        for key, value in self.fileInfo.items():\n",
    "            for index, w in enumerate(value):\n",
    "                if value[index][\"model_wrong\"] is True:\n",
    "                    score = score + 1\n",
    "                    numberExamples = numberExamples + 1\n",
    "                else:\n",
    "                    numberExamples = numberExamples + 1\n",
    "            mer = score / numberExamples\n",
    "        self.dictInfo[\"name\"] = self.name\n",
    "        self.dictInfo[\"score\"] = score\n",
    "        self.dictInfo[\"numExamples\"] = numberExamples\n",
    "        self.dictInfo[\"mer\"] = mer"
   ]
  },
  {
   "cell_type": "markdown",
   "metadata": {},
   "source": [
    "Calculate scores and mer information for each filename,\n",
    "write to results.json, then use pandas to list top scores."
   ]
  },
  {
   "cell_type": "code",
   "execution_count": 6,
   "metadata": {},
   "outputs": [
    {
     "name": "stdout",
     "output_type": "stream",
     "text": [
      "Searching in:  \n",
      "\n",
      "        Filename  score  numExamples       mer\n",
      "2  studentB.json      2            3  0.666667\n",
      "0  studentD.json      1            3  0.333333\n",
      "1  studentC.json      1            3  0.333333\n",
      "3  studentA.json      0            3  0.000000\n"
     ]
    }
   ],
   "source": [
    "def main(directory):\n",
    "    print(\"Searching in: \", directory)\n",
    "    parentDirectory = os.getcwd()\n",
    "    fileList = []\n",
    "    fileNames = []\n",
    "    for file in jsonFiles:\n",
    "        global path\n",
    "        f = open(path +'/'+ file, \"r\")\n",
    "        z = f.read()\n",
    "        jsonFile = json.loads(z)\n",
    "        # Create an object for each file\n",
    "        tempfile = Filename(jsonFile, file)\n",
    "        tempfile.calculateScore()\n",
    "        fileList.append(tempfile)\n",
    "        fileNames.append(file)\n",
    "\n",
    "    # Create reults JSON object to store json results of each file.\n",
    "    results = {}\n",
    "    nameList = []\n",
    "    scoreList = []\n",
    "    numExList = []\n",
    "    merList = []\n",
    "    for file in fileList:\n",
    "        nameList.append(file.dictInfo[\"name\"])\n",
    "        scoreList.append(file.dictInfo[\"score\"])\n",
    "        numExList.append(file.dictInfo[\"numExamples\"])\n",
    "        merList.append(file.dictInfo[\"mer\"])\n",
    "    results[\"Filename\"] = nameList\n",
    "    results[\"score\"] = scoreList\n",
    "    results[\"numExamples\"] = numExList\n",
    "    results[\"mer\"] = merList\n",
    "\n",
    "    with open(\"results.json\", \"w\") as fp:\n",
    "        json.dump(results, fp)\n",
    "    fp.close()\n",
    "\n",
    "    fileResults = pd.DataFrame.from_dict(results)\n",
    "\n",
    "    print(\"\")\n",
    "    sortedResult = fileResults.sort_values(by=[\"mer\"], ascending=False)\n",
    "    print(sortedResult)\n",
    "\n",
    "    # Choose top n results instead of all results.\n",
    "    # Change from 2 to desired number of results.\n",
    "    # print(sortedResult[0:2])\n",
    "\n",
    "\n",
    "if __name__ == \"__main__\":\n",
    "    main(directory)"
   ]
  }
 ],
 "metadata": {
  "kernelspec": {
   "display_name": "Python 3",
   "language": "python",
   "name": "python3"
  },
  "language_info": {
   "codemirror_mode": {
    "name": "ipython",
    "version": 3
   },
   "file_extension": ".py",
   "mimetype": "text/x-python",
   "name": "python",
   "nbconvert_exporter": "python",
   "pygments_lexer": "ipython3",
   "version": "3.7.5"
  }
 },
 "nbformat": 4,
 "nbformat_minor": 4
}
