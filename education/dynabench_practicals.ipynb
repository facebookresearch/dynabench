{
 "nbformat": 4,
 "nbformat_minor": 0,
 "metadata": {
  "colab": {
   "name": "dynabench_practicals.ipynb",
   "provenance": [],
   "collapsed_sections": [],
   "toc_visible": true
  },
  "kernelspec": {
   "display_name": "Python 3",
   "language": "python",
   "name": "python3"
  },
  "language_info": {
   "codemirror_mode": {
    "name": "ipython",
    "version": 3
   },
   "file_extension": ".py",
   "mimetype": "text/x-python",
   "name": "python",
   "nbconvert_exporter": "python",
   "pygments_lexer": "ipython3",
   "version": "3.7.6"
  }
 },
 "cells": [
  {
   "cell_type": "markdown",
   "metadata": {
    "id": "2B5sEaLXCVHO"
   },
   "source": [
    "# Notebook to process student example json files"
   ]
  },
  {
   "cell_type": "code",
   "metadata": {
    "id": "rgwuoFUKCVHQ"
   },
   "source": [
    "from __future__ import division\n",
    "\n",
    "import json\n",
    "import os\n",
    "from os.path import basename\n",
    "\n",
    "import pandas as pd"
   ],
   "execution_count": 9,
   "outputs": []
  },
  {
   "cell_type": "markdown",
   "metadata": {
    "id": "CCU2hOQQCVHQ"
   },
   "source": [
    "Find the json files directory, list all json files."
   ]
  },
  {
   "cell_type": "code",
   "metadata": {
    "colab": {
     "base_uri": "https://localhost:8080/"
    },
    "id": "do4FIjggCVHQ",
    "outputId": "26042325-ba76-4cb7-afbb-848691d4fdb1"
   },
   "source": [
    "path = \"sample_data\"  # or e.g. os.getcwd()\n",
    "jsonFiles = [os.path.join(path, f) for f in os.listdir(path) if f.endswith(\".json\")]\n",
    "print(jsonFiles)"
   ],
   "execution_count": 10,
   "outputs": [
    {
     "output_type": "stream",
     "text": [
      "['sample_data/studentB2_t3.json', 'sample_data/studentC_t4.json', 'sample_data/studentB1_t2.json', 'sample_data/studentA_t1.json']\n"
     ],
     "name": "stdout"
    }
   ]
  },
  {
   "cell_type": "code",
   "metadata": {
    "id": "HVyRFURFCVHR"
   },
   "source": [
    "def load_student(jsonFile):\n",
    "    with open(jsonFile) as fr:\n",
    "        data = json.load(fr)\n",
    "    dictInfo = {}\n",
    "    student = basename(jsonFile).split(\"_\")[0]\n",
    "    split_task = basename(jsonFile).replace(\".json\", \"\").split(\"_\", 1)\n",
    "\n",
    "    total = len(data[student])\n",
    "    dictInfo[\"fooled\"] = sum(\n",
    "        [1 for task in data[student] if task[\"model_wrong\"] is True]\n",
    "    )\n",
    "    dictInfo[\"total\"] = total\n",
    "    dictInfo[\"mer\"] = dictInfo[\"fooled\"] / dictInfo[\"total\"]\n",
    "    dictInfo[\"task\"] = split_task[1]\n",
    "\n",
    "    return dictInfo"
   ],
   "execution_count": 11,
   "outputs": []
  },
  {
   "cell_type": "markdown",
   "metadata": {
    "id": "1gP9AJxcCVHR"
   },
   "source": [
    "Calculate scores and MER information for each filename, then use pandas to list top scores."
   ]
  },
  {
   "cell_type": "code",
   "metadata": {
    "colab": {
     "base_uri": "https://localhost:8080/",
     "height": 173
    },
    "id": "Hg36RuB8CVHR",
    "scrolled": false,
    "outputId": "a8e2d912-d95b-496a-cf0c-fbcdc8534e53"
   },
   "source": [
    "results = {basename(fn).split(\"_\")[0]: load_student(fn) for fn in jsonFiles}\n",
    "results = pd.DataFrame.from_dict(results)\n",
    "sortedResult = results.T.sort_values(by=[\"mer\"], ascending=False)\n",
    "display(sortedResult)"
   ],
   "execution_count": 12,
   "outputs": [
    {
     "output_type": "display_data",
     "data": {
      "text/html": [
       "<div>\n",
       "<style scoped>\n",
       "    .dataframe tbody tr th:only-of-type {\n",
       "        vertical-align: middle;\n",
       "    }\n",
       "\n",
       "    .dataframe tbody tr th {\n",
       "        vertical-align: top;\n",
       "    }\n",
       "\n",
       "    .dataframe thead th {\n",
       "        text-align: right;\n",
       "    }\n",
       "</style>\n",
       "<table border=\"1\" class=\"dataframe\">\n",
       "  <thead>\n",
       "    <tr style=\"text-align: right;\">\n",
       "      <th></th>\n",
       "      <th>fooled</th>\n",
       "      <th>total</th>\n",
       "      <th>mer</th>\n",
       "      <th>task</th>\n",
       "    </tr>\n",
       "  </thead>\n",
       "  <tbody>\n",
       "    <tr>\n",
       "      <th>studentA</th>\n",
       "      <td>3</td>\n",
       "      <td>3</td>\n",
       "      <td>1</td>\n",
       "      <td>t1</td>\n",
       "    </tr>\n",
       "    <tr>\n",
       "      <th>studentB2</th>\n",
       "      <td>2</td>\n",
       "      <td>3</td>\n",
       "      <td>0.666667</td>\n",
       "      <td>t3</td>\n",
       "    </tr>\n",
       "    <tr>\n",
       "      <th>studentB1</th>\n",
       "      <td>2</td>\n",
       "      <td>3</td>\n",
       "      <td>0.666667</td>\n",
       "      <td>t2</td>\n",
       "    </tr>\n",
       "    <tr>\n",
       "      <th>studentC</th>\n",
       "      <td>1</td>\n",
       "      <td>3</td>\n",
       "      <td>0.333333</td>\n",
       "      <td>t4</td>\n",
       "    </tr>\n",
       "  </tbody>\n",
       "</table>\n",
       "</div>"
      ],
      "text/plain": [
       "          fooled total       mer task\n",
       "studentA       3     3         1   t1\n",
       "studentB2      2     3  0.666667   t3\n",
       "studentB1      2     3  0.666667   t2\n",
       "studentC       1     3  0.333333   t4"
      ]
     },
     "metadata": {
      "tags": []
     }
    }
   ]
  }
 ]
}